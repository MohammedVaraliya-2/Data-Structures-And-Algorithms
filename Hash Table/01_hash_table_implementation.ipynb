{
 "cells": [
  {
   "cell_type": "code",
   "execution_count": 28,
   "metadata": {},
   "outputs": [],
   "source": [
    "stock_prices = []\n",
    "with open(\"..\\Hash Table\\\\stock_prices.csv\", \"r\") as f:\n",
    "    for line in f:\n",
    "        tokens = line.split(',')\n",
    "        day = tokens[0]\n",
    "        prices = float(tokens[1])\n",
    "        stock_prices.append([day, prices])\n"
   ]
  },
  {
   "cell_type": "code",
   "execution_count": 29,
   "metadata": {},
   "outputs": [
    {
     "data": {
      "text/plain": [
       "[['06-Mar', 310.0],\n",
       " ['07-Mar', 340.0],\n",
       " ['08-Mar', 380.0],\n",
       " ['09-Mar', 302.0],\n",
       " ['10-Mar', 297.0],\n",
       " ['11-Mar', 323.0]]"
      ]
     },
     "execution_count": 29,
     "metadata": {},
     "output_type": "execute_result"
    }
   ],
   "source": [
    "stock_prices"
   ]
  },
  {
   "cell_type": "markdown",
   "metadata": {},
   "source": [
    "## To know the specific price."
   ]
  },
  {
   "cell_type": "code",
   "execution_count": 30,
   "metadata": {},
   "outputs": [
    {
     "name": "stdout",
     "output_type": "stream",
     "text": [
      "302.0\n"
     ]
    }
   ],
   "source": [
    "for element in stock_prices:\n",
    "    if element[0] == '09-Mar':\n",
    "        print(element[1])"
   ]
  },
  {
   "cell_type": "markdown",
   "metadata": {},
   "source": [
    "## Replace list with dictionary, which is python inbuilt method. "
   ]
  },
  {
   "cell_type": "code",
   "execution_count": 31,
   "metadata": {},
   "outputs": [],
   "source": [
    "stock_prices = {}\n",
    "with open(\"..\\Hash Table\\\\stock_prices.csv\", \"r\") as f:\n",
    "    for line in f:\n",
    "        tokens = line.split(',')\n",
    "        day = tokens[0]\n",
    "        prices = float(tokens[1])\n",
    "        stock_prices[day] = [prices]"
   ]
  },
  {
   "cell_type": "code",
   "execution_count": 32,
   "metadata": {},
   "outputs": [
    {
     "data": {
      "text/plain": [
       "{'06-Mar': [310.0],\n",
       " '07-Mar': [340.0],\n",
       " '08-Mar': [380.0],\n",
       " '09-Mar': [302.0],\n",
       " '10-Mar': [297.0],\n",
       " '11-Mar': [323.0]}"
      ]
     },
     "execution_count": 32,
     "metadata": {},
     "output_type": "execute_result"
    }
   ],
   "source": [
    "stock_prices"
   ]
  },
  {
   "cell_type": "markdown",
   "metadata": {},
   "source": [
    "## To know the specific price of the day, in dictionary"
   ]
  },
  {
   "cell_type": "code",
   "execution_count": 33,
   "metadata": {},
   "outputs": [
    {
     "data": {
      "text/plain": [
       "[302.0]"
      ]
     },
     "execution_count": 33,
     "metadata": {},
     "output_type": "execute_result"
    }
   ],
   "source": [
    "stock_prices['09-Mar']"
   ]
  }
 ],
 "metadata": {
  "kernelspec": {
   "display_name": "Python 3.10.7 64-bit",
   "language": "python",
   "name": "python3"
  },
  "language_info": {
   "codemirror_mode": {
    "name": "ipython",
    "version": 3
   },
   "file_extension": ".py",
   "mimetype": "text/x-python",
   "name": "python",
   "nbconvert_exporter": "python",
   "pygments_lexer": "ipython3",
   "version": "3.10.7"
  },
  "orig_nbformat": 4,
  "vscode": {
   "interpreter": {
    "hash": "10e9aac84282539994078db1be2f537695a8865e78eb5e3c29f0b2ce90162212"
   }
  }
 },
 "nbformat": 4,
 "nbformat_minor": 2
}
